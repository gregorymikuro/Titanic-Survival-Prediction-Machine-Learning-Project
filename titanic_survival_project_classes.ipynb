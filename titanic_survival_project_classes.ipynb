{
 "cells": [
  {
   "cell_type": "markdown",
   "metadata": {},
   "source": [
    "## __1. Data Overview Class__"
   ]
  },
  {
   "cell_type": "code",
   "execution_count": 3,
   "metadata": {},
   "outputs": [],
   "source": [
    "# titanic-survival-project-classes.ipynb\n",
    "\n",
    "import pandas as pd\n",
    "import missingno as msno\n",
    "import matplotlib.pyplot as plt\n",
    "\n",
    "# Data Overview Class\n",
    "class DataOverview:\n",
    "    def __init__(self, file_path):\n",
    "        self.dataframe = pd.read_csv(file_path)\n",
    "    \n",
    "    def show_info(self):\n",
    "        return self.dataframe.info()\n",
    "\n",
    "    def show_head(self, n=5):\n",
    "        return self.dataframe.head(n)\n",
    "    \n",
    "    def show_tail(self, n=5):\n",
    "        return self.dataframe.tail(n)\n",
    "\n",
    "    def show_description(self):\n",
    "        return self.dataframe.describe()\n",
    "\n",
    "    def show_missing_values(self):\n",
    "        msno.bar(self.dataframe, color='skyblue', figsize=(8, 6))\n",
    "        plt.title('Missing Values Count', fontsize=12)  # Adjust title font size\n",
    "        plt.xlabel('Columns', fontsize=10)  # Adjust x-axis label font size\n",
    "        plt.ylabel('Count of Missing Values', fontsize=10)  # Adjust y-axis label font size\n",
    "        plt.xticks(rotation=45, fontsize=10)  # Rotate x-axis labels and adjust font size\n",
    "        plt.yticks(fontsize=10)  # Adjust font size of y-axis labels\n",
    "        plt.show()\n",
    "\n",
    "\n",
    "    def show_duplicates(self):\n",
    "        duplicates = self.dataframe[self.dataframe.duplicated()]\n",
    "        if not duplicates.empty:\n",
    "            print(f\"Number of duplicate rows: {duplicates.shape[0]}\")\n",
    "            return duplicates\n",
    "        else:\n",
    "            print(\"No duplicate rows found.\")\n",
    "            return None\n",
    "\n",
    "    def show_unique_values(self):\n",
    "        unique_values = self.dataframe.nunique()\n",
    "        return unique_values\n",
    "    \n",
    "    def show_null_values(self):\n",
    "        null_counts = self.dataframe.isnull().sum()\n",
    "        return null_counts"
   ]
  },
  {
   "cell_type": "code",
   "execution_count": null,
   "metadata": {},
   "outputs": [],
   "source": []
  }
 ],
 "metadata": {
  "kernelspec": {
   "display_name": "base",
   "language": "python",
   "name": "python3"
  },
  "language_info": {
   "codemirror_mode": {
    "name": "ipython",
    "version": 3
   },
   "file_extension": ".py",
   "mimetype": "text/x-python",
   "name": "python",
   "nbconvert_exporter": "python",
   "pygments_lexer": "ipython3",
   "version": "3.11.7"
  }
 },
 "nbformat": 4,
 "nbformat_minor": 2
}
